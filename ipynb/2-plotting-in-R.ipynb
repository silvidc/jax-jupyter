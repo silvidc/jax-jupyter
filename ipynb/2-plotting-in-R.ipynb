{
 "cells": [
  {
   "cell_type": "markdown",
   "metadata": {},
   "source": [
    "# Plotting in R with `ggplot2` and friends\n",
    "\n",
    "\n",
    " __email__: christina@lifebit.ai\n",
    " \n",
    "(or create a new issue in the workshop's github repo [here](https://github.com/lifebit-ai/jax-jupyter/issues))"
   ]
  },
  {
   "cell_type": "markdown",
   "metadata": {},
   "source": [
    "## Loading libraries and installing dependencies:"
   ]
  },
  {
   "cell_type": "code",
   "execution_count": 1,
   "metadata": {},
   "outputs": [
    {
     "name": "stderr",
     "output_type": "stream",
     "text": [
      "also installing the dependencies ‘ggrepel’, ‘ggsci’, ‘cowplot’, ‘ggsignif’, ‘gridExtra’, ‘polynom’\n",
      "\n",
      "Updating HTML index of packages in '.Library'\n",
      "Making 'packages.html' ... done\n",
      "also installing the dependency ‘mockery’\n",
      "\n",
      "Updating HTML index of packages in '.Library'\n",
      "Making 'packages.html' ... done\n",
      "also installing the dependency ‘crosstalk’\n",
      "\n",
      "Updating HTML index of packages in '.Library'\n",
      "Making 'packages.html' ... done\n",
      "also installing the dependencies ‘lifecycle’, ‘tidyr’\n",
      "\n",
      "Updating HTML index of packages in '.Library'\n",
      "Making 'packages.html' ... done\n",
      "Updating HTML index of packages in '.Library'\n",
      "Making 'packages.html' ... done\n",
      "Bioconductor version 3.10 (BiocManager 1.30.10), R 3.6.1 (2019-07-05)\n",
      "Installing package(s) 'BiocVersion', 'EnhancedVolcano'\n",
      "Updating HTML index of packages in '.Library'\n",
      "Making 'packages.html' ... done\n",
      "Old packages: 'backports', 'callr', 'curl', 'data.table', 'devtools', 'digest',\n",
      "  'ellipsis', 'forecast', 'ggplot2', 'haven', 'hexbin', 'hms', 'htmltools',\n",
      "  'htmlwidgets', 'httpuv', 'KernSmooth', 'knitr', 'later', 'lava', 'mgcv',\n",
      "  'nlme', 'nycflights13', 'pkgbuild', 'pkgconfig', 'prodlim', 'promises',\n",
      "  'purrr', 'quadprog', 'R6', 'Rcpp', 'RcppArmadillo', 'recipes', 'rlang',\n",
      "  'rmarkdown', 'roxygen2', 'rvest', 'scales', 'selectr', 'shiny', 'sparklyr',\n",
      "  'survival', 'sys', 'testthat', 'tidyverse', 'tinytex', 'TTR', 'whisker',\n",
      "  'xfun'\n"
     ]
    }
   ],
   "source": [
    "install.packages(\"ggpubr\")\n",
    "install.packages(\"githubinstall\")\n",
    "install.packages(\"DT\")\n",
    "install.packages(\"skimr\")\n",
    "install.packages(\"BiocManager\")\n",
    "BiocManager::install(\"EnhancedVolcano\")\n",
    "#BiocManager::install(\"DESeq2\")\n",
    "#BiocManager::install(\"airway\")"
   ]
  },
  {
   "cell_type": "code",
   "execution_count": null,
   "metadata": {},
   "outputs": [],
   "source": [
    "library(ggplot2)\n",
    "library(ggpubr)\n",
    "library(githubinstall)\n",
    "library(DT)\n",
    "library(skimr)\n",
    "library(BiocManager)\n",
    "library(EnhancedVolcano)\n",
    "#library(airway)\n",
    "#library(DESeq2)"
   ]
  },
  {
   "cell_type": "markdown",
   "metadata": {},
   "source": [
    "# Searching for packages relevant to `ggplot2`"
   ]
  },
  {
   "cell_type": "markdown",
   "metadata": {},
   "source": [
    "The following brief tutorial will guide you through the functions of the `githubinstall` R package, a package to easily query GitHub and find all relevant R packages to your selected query search term of interest. The function `gh_search_packages()` returns the list of R packages on GitHub that the titles contains a given `#keyword` .\n",
    "\n",
    "For example, if you want to search packages that are relevant to __\"ggplot2\"__, run the following:"
   ]
  },
  {
   "cell_type": "code",
   "execution_count": null,
   "metadata": {},
   "outputs": [],
   "source": [
    "#  Search Packages by a Keyword, in this example we search for \"ggplot2\" \n",
    "# install.packages(\"githubinstall\") || found here: hoxo-m.github.io/githubinstall/\n",
    "\n",
    "keyword <- \"ggplot2\"\n",
    "\n",
    "library(githubinstall)\n",
    "\n",
    "pckges    <- gh_search_packages(keyword)\n",
    "skimr::skim(pckges)"
   ]
  },
  {
   "cell_type": "markdown",
   "metadata": {},
   "source": [
    "### Let's inspect what packages we retrieved related to `ggplot2`"
   ]
  },
  {
   "cell_type": "code",
   "execution_count": null,
   "metadata": {},
   "outputs": [],
   "source": [
    "DT::datatable(pckges)"
   ]
  },
  {
   "cell_type": "markdown",
   "metadata": {},
   "source": [
    "Above we can see how many packages were found that contain the search term in their description. The `gh_search_packages` function returns 3 arguments for each package:<br>\n",
    "- ```username:      ```account name of package developer on GitHub\n",
    "- ```package_name:  ```the name of the package that you can use as argument in thw `install.packages()` function\n",
    "- ```title:        ``` the description of the package\n",
    "\n"
   ]
  },
  {
   "cell_type": "markdown",
   "metadata": {},
   "source": [
    "# 🤔 Mmm, wouldn't it be nice if the package name was actually a `<clickable>`  link.."
   ]
  },
  {
   "cell_type": "markdown",
   "metadata": {},
   "source": [
    "Let's try to add some interactivity to our retrieved table and convert the package names to clickable links that will take us to the github repo of the packages."
   ]
  },
  {
   "cell_type": "markdown",
   "metadata": {},
   "source": [
    "### Reconstructing the R package GitHub repo url for clickable links\n",
    "    \n",
    "We will recontruct the string with the above pattern for all found packages, and add the html tag for redirecting\n",
    "so the pattern to recreate should look like this:\n"
   ]
  },
  {
   "cell_type": "code",
   "execution_count": null,
   "metadata": {},
   "outputs": [],
   "source": [
    "# Mutate the package names to create clickable links:\n",
    "\n",
    "pckges$package_name <- paste0(\"<a href='https://github.com/\",\n",
    "                             pckges$username, \n",
    "                             \"/\",\n",
    "                             pckges$package_name, \n",
    "                             \"'/\",\n",
    "                             \"target='blank\",\n",
    "                             \"'>\",\n",
    "                             pckges$package_name, \n",
    "                             \"</a>\")"
   ]
  },
  {
   "cell_type": "markdown",
   "metadata": {},
   "source": [
    "## Updated datatable with clickable links!\n",
    "\n",
    "Now we can inspect the packages that seem interesting by clicking the link. This will take us to the respective repository in GitHub."
   ]
  },
  {
   "cell_type": "code",
   "execution_count": null,
   "metadata": {},
   "outputs": [],
   "source": [
    "DT::datatable(pckges[,-1],      # the -1 to omit the username in the output table\n",
    "              escape = FALSE   # this is required for the url\n",
    "             )"
   ]
  },
  {
   "cell_type": "markdown",
   "metadata": {},
   "source": [
    "# Let's search for `ggpubr` R package in our data table above 👆\n",
    "<br>\n"
   ]
  },
  {
   "cell_type": "markdown",
   "metadata": {},
   "source": [
    "![](../img/ggpubr.png)"
   ]
  },
  {
   "cell_type": "markdown",
   "metadata": {},
   "source": [
    "This is one of our favorite R packages to create beautiful publication-ready plots. Before starting we will need to get some data. "
   ]
  },
  {
   "cell_type": "markdown",
   "metadata": {},
   "source": [
    "# Getting RNAseq data to test our plots"
   ]
  },
  {
   "cell_type": "markdown",
   "metadata": {},
   "source": [
    "We will utilise the  data from from [Bioconductor's Rnaseq Workflow](http://master.bioconductor.org/packages/release/workflows/vignettes/rnaseqGene/inst/doc/rnaseqGene.html). We will see this dataset again a little later from another R package  for plotting. For retrieving the results of the differential expression analysis, we will follow the tutorial (from Section 3.1) of the RNA-seq workflow. Specifically, we will load the [airway](https://bioconductor.org/packages/release/data/experiment/html/airway.html) data, where different airway smooth muscle cells were treated with dexamethasone. We will use this dataset to explore different visualisations for presenting differential abundance. While the data we will use are from an RNAseq experiment, we can utilise the same visualisations for other omics data such as proteomics or metabolomics after the relevant preprocessing."
   ]
  },
  {
   "cell_type": "markdown",
   "metadata": {},
   "source": [
    "## Loading and inspecting the `{airway}` differential analysis results"
   ]
  },
  {
   "cell_type": "markdown",
   "metadata": {},
   "source": [
    "To save some waiting time we will load the precomputed results from the comparison described above, our set contrast for treated and untreated with dexamethasone muscle cells. You can reproduce this table by running the following code:\n",
    "\n",
    "\n",
    "```r\n",
    "# this code snippet is written in markdown, enclosed in ``` and will not be executed\n",
    "# to run paste in a code cell\n",
    "\n",
    "library(magrittr)\n",
    "library('DESeq2')\n",
    "library(airway)\n",
    "\n",
    "data('airway')\n",
    "\n",
    "levels(airway$dex)\n",
    "airway$dex %<>% relevel('untrt')\n",
    "levels(airway$dex)\n",
    "\n",
    "dds <- DESeqDataSet(airway, design = ~ cell + dex)\n",
    "dds <- DESeq(dds, betaPrior=FALSE)\n",
    "\n",
    "res1 <- results(dds,contrast = c('dex','trt','untrt'))\n",
    "subsampled_results <- res1[1:5000,]\n",
    "subsampled_results$feature <- subsampled_results@rownames\n",
    "                          \n",
    "# Subsample and save an object to an Rds and a csv file\n",
    "saveRDS(subsample_results, file = \"deseq2_5k.rds\")\n",
    "loaded_results_RDS <- readRDS(file = \"deseq2_5k.rds\")\n",
    "data.table::fwrite(as.data.frame(subsampled_results),\n",
    "                   col.names = TRUE, \n",
    "                   row.names = FALSE,\n",
    "                   file = \"../data/2-plotting-in-R/deseq2_5k.csv\", \n",
    "                   sep  =',')\n",
    "\n",
    "\n",
    "```\n"
   ]
  },
  {
   "cell_type": "code",
   "execution_count": null,
   "metadata": {},
   "outputs": [],
   "source": [
    "results <- data.table::fread(file = \"../data/2-plotting-in-R/deseq2_5k.csv\")"
   ]
  },
  {
   "cell_type": "markdown",
   "metadata": {},
   "source": [
    "# Let's inspect the results \n",
    "We quickly notice the log2FoldChange and adjusted pValue. In a differential expression experiment, these two metrics give us a quick overview of the most interesting biological"
   ]
  },
  {
   "cell_type": "code",
   "execution_count": null,
   "metadata": {},
   "outputs": [],
   "source": [
    "head(results)"
   ]
  },
  {
   "cell_type": "markdown",
   "metadata": {},
   "source": [
    "# Easy volcano plots with `{EnhancedVolcano}` R package 📦\n",
    "\n",
    "The `{EnhancedVolcano}` R package 📦 has been developed by [Kevin Blighe](https://www.biostars.org/u/41557/) - the name might seem familiar as you might have come across it several times if you find yourselves in [Biostars](https://www.biostars.org/u/41557/) frequently. Kevin Blighe, is not merely a very active Biostars users but also the admin! The `{EnhancedVolcano}` R package, is one very useful R package, as it provides great flexibility and ease for creating publication ready Volcano plots. We will be following the package `vignette`, which can be found [here](https://github.com/kevinblighe/EnhancedVolcano), in the respective GitHub repository.Let's see the package in action!"
   ]
  },
  {
   "cell_type": "code",
   "execution_count": null,
   "metadata": {},
   "outputs": [],
   "source": [
    "library(EnhancedVolcano)\n"
   ]
  },
  {
   "cell_type": "code",
   "execution_count": null,
   "metadata": {},
   "outputs": [],
   "source": [
    "# A minimal function call, for a complete plot\n",
    "\n",
    "gg<- EnhancedVolcano(toptable = results, \n",
    "                    lab = results$feature,\n",
    "                    x = 'log2FoldChange',\n",
    "                    y = 'pvalue',\n",
    "                    xlim = c(-5, 8))\n",
    "\n",
    "gg"
   ]
  },
  {
   "cell_type": "code",
   "execution_count": null,
   "metadata": {},
   "outputs": [],
   "source": [
    "install.packages('plotly') ; library(plotly)"
   ]
  },
  {
   "cell_type": "markdown",
   "metadata": {},
   "source": [
    "# Let's customise the 🌋 plot a bit more"
   ]
  },
  {
   "cell_type": "markdown",
   "metadata": {},
   "source": [
    "- Modify cut-offs for log2FC and P value\n",
    "- specify title \n",
    "- adjust point and label size\n"
   ]
  },
  {
   "cell_type": "code",
   "execution_count": null,
   "metadata": {},
   "outputs": [],
   "source": [
    "gg<-   EnhancedVolcano::EnhancedVolcano( results,    \n",
    "                        col=c('grey', 'grey', 'orange', 'forestgreen'),\n",
    "\n",
    "                        lab = results$feature,\n",
    "                        x = 'log2FoldChange',\n",
    "                        y = 'pvalue',\n",
    "                        xlim = c(-6, 6),\n",
    "\n",
    "                        title = 'Differential abundance (untreated with respect to treated cells)',  \n",
    "                        titleLabSize = 12,\n",
    "                       \n",
    "                        subtitle = '{EnhancedVolcano} for JAX',\n",
    "                        subtitleLabSize = 10,\n",
    "                       \n",
    "                        caption = \"Treated vs Untreated with dexamethasone\",\n",
    "                        captionLabSize = 10,\n",
    "                       \n",
    "                        pCutoff = 10e-16,\n",
    "                        FCcutoff = 1.2,\n",
    "                        pointSize = 1.0,\n",
    "                        labSize = 3.0)\n",
    "\n",
    "gg"
   ]
  },
  {
   "cell_type": "markdown",
   "metadata": {},
   "source": [
    "# PCA plotting with `ggfortify::autoplot()` "
   ]
  },
  {
   "cell_type": "code",
   "execution_count": null,
   "metadata": {},
   "outputs": [],
   "source": [
    "install.packages(\"ggfortify\")\n",
    "install.packages(\"htmlwidgets\")\n",
    "library(ggfortify)\n",
    "df <- iris[c(1, 2, 3, 4)] # omitting categorical variable\n",
    "autoplot(prcomp(df))\n"
   ]
  },
  {
   "cell_type": "markdown",
   "metadata": {},
   "source": [
    "# Add color coding based on Species"
   ]
  },
  {
   "cell_type": "code",
   "execution_count": null,
   "metadata": {},
   "outputs": [],
   "source": [
    "gg<- autoplot(prcomp(df), data = iris, colour = 'Species')\n",
    "gg"
   ]
  },
  {
   "cell_type": "markdown",
   "metadata": {},
   "source": [
    "# Add title"
   ]
  },
  {
   "cell_type": "code",
   "execution_count": null,
   "metadata": {},
   "outputs": [],
   "source": [
    "gg <- gg + labs(title      = \"Visual exploratory analysis of the iris dataset\",\n",
    "                subtitle   = \"Iris dataset PCA plot\",\n",
    "                caption    = \"Interactive plotting with ggplot2 and friends\")   \n",
    "\n",
    "gg"
   ]
  },
  {
   "cell_type": "markdown",
   "metadata": {},
   "source": [
    "# Customize the font size of the added labels"
   ]
  },
  {
   "cell_type": "code",
   "execution_count": null,
   "metadata": {},
   "outputs": [],
   "source": [
    "# Controlling font face, font colour and font size of labs. Also centering with hjust \n",
    "gg <- gg + theme( plot.title    = element_text(color = \"#4A637B\" , size = 14, face = \"bold\" , hjust = 0.5),\n",
    "            plot.subtitle = element_text(color = \"#3C91E6\", size = 10, hjust = 1),\n",
    "            plot.caption  = element_text(color = \"#f46036\", face = \"italic\") ) \n",
    "                   \n",
    "\n",
    "gg"
   ]
  },
  {
   "cell_type": "markdown",
   "metadata": {},
   "source": [
    "# Utilising `plotly::ggplotly()`  for easily converting ggplot objects to interactive!"
   ]
  },
  {
   "cell_type": "code",
   "execution_count": null,
   "metadata": {},
   "outputs": [],
   "source": [
    "# Notice that plotly is missing some aes elements (caption, subtitle )\n",
    "plotly::ggplotly(gg)"
   ]
  },
  {
   "cell_type": "code",
   "execution_count": null,
   "metadata": {},
   "outputs": [],
   "source": [
    "# Save plotly object as .html file\n",
    "htmlwidgets::saveWidget(plotly::ggplotly(gg), file = \"interactive_pca.html\")\n"
   ]
  },
  {
   "cell_type": "code",
   "execution_count": null,
   "metadata": {},
   "outputs": [],
   "source": [
    "\n",
    "# Save ggplot object as .png file\n",
    "png_plot_width          =  800                   \n",
    "png_plot_height         =  600                  \n",
    "\n",
    "png(filename =  paste0(\"iris_pca.png\"),\n",
    "    width    =  png_plot_width, \n",
    "    height   =  png_plot_height)\n",
    "\n",
    "plot(gg)\n",
    "dev.off()        \n"
   ]
  },
  {
   "cell_type": "markdown",
   "metadata": {},
   "source": [
    "For more ideas you can inspect the `{ggfortify}` vignette here: \n",
    "https://cran.r-project.org/web/packages/ggfortify/vignettes/plot_pca.html"
   ]
  },
  {
   "cell_type": "code",
   "execution_count": null,
   "metadata": {},
   "outputs": [],
   "source": []
  }
 ],
 "metadata": {
  "kernelspec": {
   "display_name": "R",
   "language": "R",
   "name": "ir"
  },
  "language_info": {
   "codemirror_mode": "r",
   "file_extension": ".r",
   "mimetype": "text/x-r-source",
   "name": "R",
   "pygments_lexer": "r",
   "version": "3.6.1"
  },
  "widgets": {
   "application/vnd.jupyter.widget-state+json": {
    "state": {},
    "version_major": 2,
    "version_minor": 0
   }
  }
 },
 "nbformat": 4,
 "nbformat_minor": 4
}
